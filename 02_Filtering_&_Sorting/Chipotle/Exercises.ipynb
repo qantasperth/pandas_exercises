{
 "cells": [
  {
   "cell_type": "markdown",
   "metadata": {},
   "source": [
    "# Ex1 - Filtering and Sorting Data"
   ]
  },
  {
   "cell_type": "markdown",
   "metadata": {},
   "source": [
    "This time we are going to pull data directly from the internet.\n",
    "Special thanks to: https://github.com/justmarkham for sharing the dataset and materials.\n",
    "\n",
    "### Step 1. Import the necessary libraries"
   ]
  },
  {
   "cell_type": "code",
   "execution_count": 2,
   "metadata": {
    "collapsed": false,
    "ExecuteTime": {
     "end_time": "2024-02-04T18:01:47.369274Z",
     "start_time": "2024-02-04T18:01:46.678972Z"
    }
   },
   "outputs": [
    {
     "name": "stderr",
     "output_type": "stream",
     "text": [
      "/var/folders/fj/240c0201797fmqhn6vqcgd240000gn/T/ipykernel_52710/2035458946.py:1: DeprecationWarning: \n",
      "Pyarrow will become a required dependency of pandas in the next major release of pandas (pandas 3.0),\n",
      "(to allow more performant data types, such as the Arrow string type, and better interoperability with other libraries)\n",
      "but was not found to be installed on your system.\n",
      "If this would cause problems for you,\n",
      "please provide us feedback at https://github.com/pandas-dev/pandas/issues/54466\n",
      "        \n",
      "  import pandas as pd\n"
     ]
    }
   ],
   "source": [
    "import pandas as pd"
   ]
  },
  {
   "cell_type": "markdown",
   "metadata": {},
   "source": [
    "### Step 2. Import the dataset from this [address](https://raw.githubusercontent.com/justmarkham/DAT8/master/data/chipotle.tsv). "
   ]
  },
  {
   "cell_type": "markdown",
   "metadata": {},
   "source": [
    "### Step 3. Assign it to a variable called chipo."
   ]
  },
  {
   "cell_type": "code",
   "execution_count": 6,
   "metadata": {
    "collapsed": false,
    "ExecuteTime": {
     "end_time": "2024-02-04T18:05:25.753223Z",
     "start_time": "2024-02-04T18:05:25.606602Z"
    }
   },
   "outputs": [
    {
     "name": "stdout",
     "output_type": "stream",
     "text": [
      "<class 'pandas.core.frame.DataFrame'>\n",
      "RangeIndex: 4622 entries, 0 to 4621\n",
      "Data columns (total 5 columns):\n",
      " #   Column              Non-Null Count  Dtype \n",
      "---  ------              --------------  ----- \n",
      " 0   order_id            4622 non-null   int64 \n",
      " 1   quantity            4622 non-null   int64 \n",
      " 2   item_name           4622 non-null   object\n",
      " 3   choice_description  3376 non-null   object\n",
      " 4   item_price          4622 non-null   object\n",
      "dtypes: int64(2), object(3)\n",
      "memory usage: 180.7+ KB\n",
      "<class 'pandas.core.frame.DataFrame'>\n",
      "RangeIndex: 4622 entries, 0 to 4621\n",
      "Data columns (total 5 columns):\n",
      " #   Column              Non-Null Count  Dtype  \n",
      "---  ------              --------------  -----  \n",
      " 0   order_id            4622 non-null   int64  \n",
      " 1   quantity            4622 non-null   int64  \n",
      " 2   item_name           4622 non-null   object \n",
      " 3   choice_description  3376 non-null   object \n",
      " 4   item_price          4622 non-null   float64\n",
      "dtypes: float64(1), int64(2), object(2)\n",
      "memory usage: 180.7+ KB\n"
     ]
    }
   ],
   "source": [
    "chipo = pd.read_csv('https://raw.githubusercontent.com/justmarkham/DAT8/master/data/chipotle.tsv', sep = '\\t')\n",
    "chipo['item_price'] = chipo['item_price'].str.replace('$', '').astype(float)\n",
    "chipo.info()"
   ]
  },
  {
   "cell_type": "markdown",
   "metadata": {},
   "source": [
    "### Step 4. How many products cost more than $10.00?"
   ]
  },
  {
   "cell_type": "code",
   "execution_count": 16,
   "metadata": {
    "collapsed": false,
    "ExecuteTime": {
     "end_time": "2024-02-04T18:06:33.575585Z",
     "start_time": "2024-02-04T18:06:33.565271Z"
    }
   },
   "outputs": [
    {
     "data": {
      "text/plain": "31"
     },
     "execution_count": 16,
     "metadata": {},
     "output_type": "execute_result"
    }
   ],
   "source": [
    "chipo_4 = chipo.query('item_price > 10')\n",
    "chipo_4.value_counts('item_name').count()"
   ]
  },
  {
   "cell_type": "markdown",
   "metadata": {},
   "source": [
    "### Step 5. What is the price of each item? \n",
    "###### print a data frame with only two columns item_name and item_price"
   ]
  },
  {
   "cell_type": "code",
   "execution_count": 23,
   "metadata": {
    "collapsed": false,
    "ExecuteTime": {
     "end_time": "2024-02-04T18:10:36.110602Z",
     "start_time": "2024-02-04T18:10:36.105016Z"
    }
   },
   "outputs": [
    {
     "data": {
      "text/plain": "                                  item_name  item_price\n0              Chips and Fresh Tomato Salsa        2.39\n1                                      Izze        3.39\n2                          Nantucket Nectar        3.39\n3     Chips and Tomatillo-Green Chili Salsa        2.39\n4                              Chicken Bowl       16.98\n...                                     ...         ...\n4617                          Steak Burrito       11.75\n4618                          Steak Burrito       11.75\n4619                     Chicken Salad Bowl       11.25\n4620                     Chicken Salad Bowl        8.75\n4621                     Chicken Salad Bowl        8.75\n\n[4622 rows x 2 columns]",
      "text/html": "<div>\n<style scoped>\n    .dataframe tbody tr th:only-of-type {\n        vertical-align: middle;\n    }\n\n    .dataframe tbody tr th {\n        vertical-align: top;\n    }\n\n    .dataframe thead th {\n        text-align: right;\n    }\n</style>\n<table border=\"1\" class=\"dataframe\">\n  <thead>\n    <tr style=\"text-align: right;\">\n      <th></th>\n      <th>item_name</th>\n      <th>item_price</th>\n    </tr>\n  </thead>\n  <tbody>\n    <tr>\n      <th>0</th>\n      <td>Chips and Fresh Tomato Salsa</td>\n      <td>2.39</td>\n    </tr>\n    <tr>\n      <th>1</th>\n      <td>Izze</td>\n      <td>3.39</td>\n    </tr>\n    <tr>\n      <th>2</th>\n      <td>Nantucket Nectar</td>\n      <td>3.39</td>\n    </tr>\n    <tr>\n      <th>3</th>\n      <td>Chips and Tomatillo-Green Chili Salsa</td>\n      <td>2.39</td>\n    </tr>\n    <tr>\n      <th>4</th>\n      <td>Chicken Bowl</td>\n      <td>16.98</td>\n    </tr>\n    <tr>\n      <th>...</th>\n      <td>...</td>\n      <td>...</td>\n    </tr>\n    <tr>\n      <th>4617</th>\n      <td>Steak Burrito</td>\n      <td>11.75</td>\n    </tr>\n    <tr>\n      <th>4618</th>\n      <td>Steak Burrito</td>\n      <td>11.75</td>\n    </tr>\n    <tr>\n      <th>4619</th>\n      <td>Chicken Salad Bowl</td>\n      <td>11.25</td>\n    </tr>\n    <tr>\n      <th>4620</th>\n      <td>Chicken Salad Bowl</td>\n      <td>8.75</td>\n    </tr>\n    <tr>\n      <th>4621</th>\n      <td>Chicken Salad Bowl</td>\n      <td>8.75</td>\n    </tr>\n  </tbody>\n</table>\n<p>4622 rows × 2 columns</p>\n</div>"
     },
     "execution_count": 23,
     "metadata": {},
     "output_type": "execute_result"
    }
   ],
   "source": [
    "chipo_5 = chipo[['item_name', 'item_price']]\n",
    "chipo_5"
   ]
  },
  {
   "cell_type": "markdown",
   "metadata": {},
   "source": [
    "### Step 6. Sort by the name of the item"
   ]
  },
  {
   "cell_type": "code",
   "execution_count": 24,
   "metadata": {
    "collapsed": false,
    "ExecuteTime": {
     "end_time": "2024-02-04T18:11:10.490303Z",
     "start_time": "2024-02-04T18:11:10.474410Z"
    }
   },
   "outputs": [
    {
     "data": {
      "text/plain": "              item_name  item_price\n3889  Veggie Soft Tacos       16.98\n2851  Veggie Soft Tacos        8.49\n738   Veggie Soft Tacos       11.25\n1395  Veggie Soft Tacos        8.49\n2384  Veggie Soft Tacos        8.75\n...                 ...         ...\n1916  6 Pack Soft Drink        6.49\n1124  6 Pack Soft Drink        6.49\n3789  6 Pack Soft Drink        6.49\n1392  6 Pack Soft Drink        6.49\n3614  6 Pack Soft Drink        6.49\n\n[4622 rows x 2 columns]",
      "text/html": "<div>\n<style scoped>\n    .dataframe tbody tr th:only-of-type {\n        vertical-align: middle;\n    }\n\n    .dataframe tbody tr th {\n        vertical-align: top;\n    }\n\n    .dataframe thead th {\n        text-align: right;\n    }\n</style>\n<table border=\"1\" class=\"dataframe\">\n  <thead>\n    <tr style=\"text-align: right;\">\n      <th></th>\n      <th>item_name</th>\n      <th>item_price</th>\n    </tr>\n  </thead>\n  <tbody>\n    <tr>\n      <th>3889</th>\n      <td>Veggie Soft Tacos</td>\n      <td>16.98</td>\n    </tr>\n    <tr>\n      <th>2851</th>\n      <td>Veggie Soft Tacos</td>\n      <td>8.49</td>\n    </tr>\n    <tr>\n      <th>738</th>\n      <td>Veggie Soft Tacos</td>\n      <td>11.25</td>\n    </tr>\n    <tr>\n      <th>1395</th>\n      <td>Veggie Soft Tacos</td>\n      <td>8.49</td>\n    </tr>\n    <tr>\n      <th>2384</th>\n      <td>Veggie Soft Tacos</td>\n      <td>8.75</td>\n    </tr>\n    <tr>\n      <th>...</th>\n      <td>...</td>\n      <td>...</td>\n    </tr>\n    <tr>\n      <th>1916</th>\n      <td>6 Pack Soft Drink</td>\n      <td>6.49</td>\n    </tr>\n    <tr>\n      <th>1124</th>\n      <td>6 Pack Soft Drink</td>\n      <td>6.49</td>\n    </tr>\n    <tr>\n      <th>3789</th>\n      <td>6 Pack Soft Drink</td>\n      <td>6.49</td>\n    </tr>\n    <tr>\n      <th>1392</th>\n      <td>6 Pack Soft Drink</td>\n      <td>6.49</td>\n    </tr>\n    <tr>\n      <th>3614</th>\n      <td>6 Pack Soft Drink</td>\n      <td>6.49</td>\n    </tr>\n  </tbody>\n</table>\n<p>4622 rows × 2 columns</p>\n</div>"
     },
     "execution_count": 24,
     "metadata": {},
     "output_type": "execute_result"
    }
   ],
   "source": [
    "chipo_5.sort_values('item_name', ascending=False)"
   ]
  },
  {
   "cell_type": "markdown",
   "metadata": {},
   "source": [
    "### Step 7. What was the quantity of the most expensive item ordered?"
   ]
  },
  {
   "cell_type": "code",
   "execution_count": 25,
   "metadata": {
    "collapsed": false,
    "ExecuteTime": {
     "end_time": "2024-02-04T18:12:49.948739Z",
     "start_time": "2024-02-04T18:12:49.930781Z"
    }
   },
   "outputs": [
    {
     "data": {
      "text/plain": "      order_id  quantity                     item_name  \\\n3598      1443        15  Chips and Fresh Tomato Salsa   \n3480      1398         3                 Carnitas Bowl   \n1254       511         4               Chicken Burrito   \n3602      1443         4               Chicken Burrito   \n3601      1443         3                Veggie Burrito   \n...        ...       ...                           ...   \n3936      1578         1                   Canned Soda   \n2922      1162         1                 Bottled Water   \n1396       567         1                   Canned Soda   \n2562      1014         1                   Canned Soda   \n1457       591         1                   Canned Soda   \n\n                                     choice_description  item_price  \n3598                                                NaN       44.25  \n3480  [Roasted Chili Corn Salsa, [Fajita Vegetables,...       35.25  \n1254  [Fresh Tomato Salsa, [Fajita Vegetables, Rice,...       35.00  \n3602  [Fresh Tomato Salsa, [Rice, Black Beans, Chees...       35.00  \n3601  [Fresh Tomato Salsa, [Fajita Vegetables, Rice,...       33.75  \n...                                                 ...         ...  \n3936                                  [Diet Dr. Pepper]        1.09  \n2922                                                NaN        1.09  \n1396                                        [Coca Cola]        1.09  \n2562                                        [Coca Cola]        1.09  \n1457                                           [Sprite]        1.09  \n\n[4622 rows x 5 columns]",
      "text/html": "<div>\n<style scoped>\n    .dataframe tbody tr th:only-of-type {\n        vertical-align: middle;\n    }\n\n    .dataframe tbody tr th {\n        vertical-align: top;\n    }\n\n    .dataframe thead th {\n        text-align: right;\n    }\n</style>\n<table border=\"1\" class=\"dataframe\">\n  <thead>\n    <tr style=\"text-align: right;\">\n      <th></th>\n      <th>order_id</th>\n      <th>quantity</th>\n      <th>item_name</th>\n      <th>choice_description</th>\n      <th>item_price</th>\n    </tr>\n  </thead>\n  <tbody>\n    <tr>\n      <th>3598</th>\n      <td>1443</td>\n      <td>15</td>\n      <td>Chips and Fresh Tomato Salsa</td>\n      <td>NaN</td>\n      <td>44.25</td>\n    </tr>\n    <tr>\n      <th>3480</th>\n      <td>1398</td>\n      <td>3</td>\n      <td>Carnitas Bowl</td>\n      <td>[Roasted Chili Corn Salsa, [Fajita Vegetables,...</td>\n      <td>35.25</td>\n    </tr>\n    <tr>\n      <th>1254</th>\n      <td>511</td>\n      <td>4</td>\n      <td>Chicken Burrito</td>\n      <td>[Fresh Tomato Salsa, [Fajita Vegetables, Rice,...</td>\n      <td>35.00</td>\n    </tr>\n    <tr>\n      <th>3602</th>\n      <td>1443</td>\n      <td>4</td>\n      <td>Chicken Burrito</td>\n      <td>[Fresh Tomato Salsa, [Rice, Black Beans, Chees...</td>\n      <td>35.00</td>\n    </tr>\n    <tr>\n      <th>3601</th>\n      <td>1443</td>\n      <td>3</td>\n      <td>Veggie Burrito</td>\n      <td>[Fresh Tomato Salsa, [Fajita Vegetables, Rice,...</td>\n      <td>33.75</td>\n    </tr>\n    <tr>\n      <th>...</th>\n      <td>...</td>\n      <td>...</td>\n      <td>...</td>\n      <td>...</td>\n      <td>...</td>\n    </tr>\n    <tr>\n      <th>3936</th>\n      <td>1578</td>\n      <td>1</td>\n      <td>Canned Soda</td>\n      <td>[Diet Dr. Pepper]</td>\n      <td>1.09</td>\n    </tr>\n    <tr>\n      <th>2922</th>\n      <td>1162</td>\n      <td>1</td>\n      <td>Bottled Water</td>\n      <td>NaN</td>\n      <td>1.09</td>\n    </tr>\n    <tr>\n      <th>1396</th>\n      <td>567</td>\n      <td>1</td>\n      <td>Canned Soda</td>\n      <td>[Coca Cola]</td>\n      <td>1.09</td>\n    </tr>\n    <tr>\n      <th>2562</th>\n      <td>1014</td>\n      <td>1</td>\n      <td>Canned Soda</td>\n      <td>[Coca Cola]</td>\n      <td>1.09</td>\n    </tr>\n    <tr>\n      <th>1457</th>\n      <td>591</td>\n      <td>1</td>\n      <td>Canned Soda</td>\n      <td>[Sprite]</td>\n      <td>1.09</td>\n    </tr>\n  </tbody>\n</table>\n<p>4622 rows × 5 columns</p>\n</div>"
     },
     "execution_count": 25,
     "metadata": {},
     "output_type": "execute_result"
    }
   ],
   "source": [
    "chipo_7 = chipo.sort_values('item_price', ascending=False)\n",
    "chipo_7"
   ]
  },
  {
   "cell_type": "markdown",
   "metadata": {},
   "source": [
    "### Step 8. How many times was a Veggie Salad Bowl ordered?"
   ]
  },
  {
   "cell_type": "code",
   "execution_count": 29,
   "metadata": {
    "collapsed": false,
    "ExecuteTime": {
     "end_time": "2024-02-04T18:15:44.356396Z",
     "start_time": "2024-02-04T18:15:44.351975Z"
    }
   },
   "outputs": [
    {
     "data": {
      "text/plain": "      order_id  quantity          item_name  \\\n186         83         1  Veggie Salad Bowl   \n295        128         1  Veggie Salad Bowl   \n455        195         1  Veggie Salad Bowl   \n496        207         1  Veggie Salad Bowl   \n960        394         1  Veggie Salad Bowl   \n1316       536         1  Veggie Salad Bowl   \n1884       760         1  Veggie Salad Bowl   \n2156       869         1  Veggie Salad Bowl   \n2223       896         1  Veggie Salad Bowl   \n2269       913         1  Veggie Salad Bowl   \n2683      1066         1  Veggie Salad Bowl   \n3223      1289         1  Veggie Salad Bowl   \n3293      1321         1  Veggie Salad Bowl   \n4109      1646         1  Veggie Salad Bowl   \n4201      1677         1  Veggie Salad Bowl   \n4261      1700         1  Veggie Salad Bowl   \n4541      1805         1  Veggie Salad Bowl   \n4573      1818         1  Veggie Salad Bowl   \n\n                                     choice_description  item_price  \n186   [Fresh Tomato Salsa, [Fajita Vegetables, Rice,...       11.25  \n295   [Fresh Tomato Salsa, [Fajita Vegetables, Lettu...       11.25  \n455   [Fresh Tomato Salsa, [Fajita Vegetables, Rice,...       11.25  \n496   [Fresh Tomato Salsa, [Rice, Lettuce, Guacamole...       11.25  \n960   [Fresh Tomato Salsa, [Fajita Vegetables, Lettu...        8.75  \n1316  [Fresh Tomato Salsa, [Fajita Vegetables, Rice,...        8.75  \n1884  [Fresh Tomato Salsa, [Fajita Vegetables, Rice,...       11.25  \n2156  [Tomatillo Red Chili Salsa, [Fajita Vegetables...       11.25  \n2223      [Roasted Chili Corn Salsa, Fajita Vegetables]        8.75  \n2269  [Fresh Tomato Salsa, [Fajita Vegetables, Rice,...        8.75  \n2683  [Roasted Chili Corn Salsa, [Fajita Vegetables,...        8.75  \n3223  [Tomatillo Red Chili Salsa, [Fajita Vegetables...       11.25  \n3293  [Fresh Tomato Salsa, [Rice, Black Beans, Chees...        8.75  \n4109  [Tomatillo Red Chili Salsa, [Fajita Vegetables...       11.25  \n4201  [Fresh Tomato Salsa, [Fajita Vegetables, Black...       11.25  \n4261  [Fresh Tomato Salsa, [Fajita Vegetables, Rice,...       11.25  \n4541  [Tomatillo Green Chili Salsa, [Fajita Vegetabl...        8.75  \n4573  [Fresh Tomato Salsa, [Fajita Vegetables, Pinto...        8.75  ",
      "text/html": "<div>\n<style scoped>\n    .dataframe tbody tr th:only-of-type {\n        vertical-align: middle;\n    }\n\n    .dataframe tbody tr th {\n        vertical-align: top;\n    }\n\n    .dataframe thead th {\n        text-align: right;\n    }\n</style>\n<table border=\"1\" class=\"dataframe\">\n  <thead>\n    <tr style=\"text-align: right;\">\n      <th></th>\n      <th>order_id</th>\n      <th>quantity</th>\n      <th>item_name</th>\n      <th>choice_description</th>\n      <th>item_price</th>\n    </tr>\n  </thead>\n  <tbody>\n    <tr>\n      <th>186</th>\n      <td>83</td>\n      <td>1</td>\n      <td>Veggie Salad Bowl</td>\n      <td>[Fresh Tomato Salsa, [Fajita Vegetables, Rice,...</td>\n      <td>11.25</td>\n    </tr>\n    <tr>\n      <th>295</th>\n      <td>128</td>\n      <td>1</td>\n      <td>Veggie Salad Bowl</td>\n      <td>[Fresh Tomato Salsa, [Fajita Vegetables, Lettu...</td>\n      <td>11.25</td>\n    </tr>\n    <tr>\n      <th>455</th>\n      <td>195</td>\n      <td>1</td>\n      <td>Veggie Salad Bowl</td>\n      <td>[Fresh Tomato Salsa, [Fajita Vegetables, Rice,...</td>\n      <td>11.25</td>\n    </tr>\n    <tr>\n      <th>496</th>\n      <td>207</td>\n      <td>1</td>\n      <td>Veggie Salad Bowl</td>\n      <td>[Fresh Tomato Salsa, [Rice, Lettuce, Guacamole...</td>\n      <td>11.25</td>\n    </tr>\n    <tr>\n      <th>960</th>\n      <td>394</td>\n      <td>1</td>\n      <td>Veggie Salad Bowl</td>\n      <td>[Fresh Tomato Salsa, [Fajita Vegetables, Lettu...</td>\n      <td>8.75</td>\n    </tr>\n    <tr>\n      <th>1316</th>\n      <td>536</td>\n      <td>1</td>\n      <td>Veggie Salad Bowl</td>\n      <td>[Fresh Tomato Salsa, [Fajita Vegetables, Rice,...</td>\n      <td>8.75</td>\n    </tr>\n    <tr>\n      <th>1884</th>\n      <td>760</td>\n      <td>1</td>\n      <td>Veggie Salad Bowl</td>\n      <td>[Fresh Tomato Salsa, [Fajita Vegetables, Rice,...</td>\n      <td>11.25</td>\n    </tr>\n    <tr>\n      <th>2156</th>\n      <td>869</td>\n      <td>1</td>\n      <td>Veggie Salad Bowl</td>\n      <td>[Tomatillo Red Chili Salsa, [Fajita Vegetables...</td>\n      <td>11.25</td>\n    </tr>\n    <tr>\n      <th>2223</th>\n      <td>896</td>\n      <td>1</td>\n      <td>Veggie Salad Bowl</td>\n      <td>[Roasted Chili Corn Salsa, Fajita Vegetables]</td>\n      <td>8.75</td>\n    </tr>\n    <tr>\n      <th>2269</th>\n      <td>913</td>\n      <td>1</td>\n      <td>Veggie Salad Bowl</td>\n      <td>[Fresh Tomato Salsa, [Fajita Vegetables, Rice,...</td>\n      <td>8.75</td>\n    </tr>\n    <tr>\n      <th>2683</th>\n      <td>1066</td>\n      <td>1</td>\n      <td>Veggie Salad Bowl</td>\n      <td>[Roasted Chili Corn Salsa, [Fajita Vegetables,...</td>\n      <td>8.75</td>\n    </tr>\n    <tr>\n      <th>3223</th>\n      <td>1289</td>\n      <td>1</td>\n      <td>Veggie Salad Bowl</td>\n      <td>[Tomatillo Red Chili Salsa, [Fajita Vegetables...</td>\n      <td>11.25</td>\n    </tr>\n    <tr>\n      <th>3293</th>\n      <td>1321</td>\n      <td>1</td>\n      <td>Veggie Salad Bowl</td>\n      <td>[Fresh Tomato Salsa, [Rice, Black Beans, Chees...</td>\n      <td>8.75</td>\n    </tr>\n    <tr>\n      <th>4109</th>\n      <td>1646</td>\n      <td>1</td>\n      <td>Veggie Salad Bowl</td>\n      <td>[Tomatillo Red Chili Salsa, [Fajita Vegetables...</td>\n      <td>11.25</td>\n    </tr>\n    <tr>\n      <th>4201</th>\n      <td>1677</td>\n      <td>1</td>\n      <td>Veggie Salad Bowl</td>\n      <td>[Fresh Tomato Salsa, [Fajita Vegetables, Black...</td>\n      <td>11.25</td>\n    </tr>\n    <tr>\n      <th>4261</th>\n      <td>1700</td>\n      <td>1</td>\n      <td>Veggie Salad Bowl</td>\n      <td>[Fresh Tomato Salsa, [Fajita Vegetables, Rice,...</td>\n      <td>11.25</td>\n    </tr>\n    <tr>\n      <th>4541</th>\n      <td>1805</td>\n      <td>1</td>\n      <td>Veggie Salad Bowl</td>\n      <td>[Tomatillo Green Chili Salsa, [Fajita Vegetabl...</td>\n      <td>8.75</td>\n    </tr>\n    <tr>\n      <th>4573</th>\n      <td>1818</td>\n      <td>1</td>\n      <td>Veggie Salad Bowl</td>\n      <td>[Fresh Tomato Salsa, [Fajita Vegetables, Pinto...</td>\n      <td>8.75</td>\n    </tr>\n  </tbody>\n</table>\n</div>"
     },
     "execution_count": 29,
     "metadata": {},
     "output_type": "execute_result"
    }
   ],
   "source": [
    "chipo_8 = chipo.query(\"item_name == 'Veggie Salad Bowl'\")\n",
    "chipo_8"
   ]
  },
  {
   "cell_type": "markdown",
   "metadata": {},
   "source": [
    "### Step 9. How many times did someone order more than one Canned Soda?"
   ]
  },
  {
   "cell_type": "code",
   "execution_count": 36,
   "metadata": {
    "collapsed": false,
    "ExecuteTime": {
     "end_time": "2024-02-04T18:18:22.503377Z",
     "start_time": "2024-02-04T18:18:22.481402Z"
    }
   },
   "outputs": [
    {
     "data": {
      "text/plain": "      order_id  quantity    item_name choice_description  item_price\n18           9         2  Canned Soda           [Sprite]        2.18\n51          23         2  Canned Soda     [Mountain Dew]        2.18\n162         73         2  Canned Soda        [Diet Coke]        2.18\n171         76         2  Canned Soda  [Diet Dr. Pepper]        2.18\n350        150         2  Canned Soda        [Diet Coke]        2.18\n352        151         2  Canned Soda        [Coca Cola]        2.18\n698        287         2  Canned Soda        [Coca Cola]        2.18\n700        288         2  Canned Soda        [Coca Cola]        2.18\n909        376         2  Canned Soda     [Mountain Dew]        2.18\n1091       450         2  Canned Soda       [Dr. Pepper]        2.18\n1092       450         2  Canned Soda        [Coca Cola]        2.18\n1944       787         2  Canned Soda       [Dr. Pepper]        2.18\n2135       859         2  Canned Soda        [Diet Coke]        2.18\n2235       901         4  Canned Soda           [Sprite]        4.36\n2905      1156         2  Canned Soda        [Coca Cola]        2.18\n2906      1156         2  Canned Soda           [Sprite]        2.18\n3152      1258         2  Canned Soda       [Dr. Pepper]        2.18\n3364      1349         2  Canned Soda        [Coca Cola]        2.18\n3592      1440         2  Canned Soda        [Diet Coke]        2.18\n3866      1550         2  Canned Soda     [Mountain Dew]        2.18",
      "text/html": "<div>\n<style scoped>\n    .dataframe tbody tr th:only-of-type {\n        vertical-align: middle;\n    }\n\n    .dataframe tbody tr th {\n        vertical-align: top;\n    }\n\n    .dataframe thead th {\n        text-align: right;\n    }\n</style>\n<table border=\"1\" class=\"dataframe\">\n  <thead>\n    <tr style=\"text-align: right;\">\n      <th></th>\n      <th>order_id</th>\n      <th>quantity</th>\n      <th>item_name</th>\n      <th>choice_description</th>\n      <th>item_price</th>\n    </tr>\n  </thead>\n  <tbody>\n    <tr>\n      <th>18</th>\n      <td>9</td>\n      <td>2</td>\n      <td>Canned Soda</td>\n      <td>[Sprite]</td>\n      <td>2.18</td>\n    </tr>\n    <tr>\n      <th>51</th>\n      <td>23</td>\n      <td>2</td>\n      <td>Canned Soda</td>\n      <td>[Mountain Dew]</td>\n      <td>2.18</td>\n    </tr>\n    <tr>\n      <th>162</th>\n      <td>73</td>\n      <td>2</td>\n      <td>Canned Soda</td>\n      <td>[Diet Coke]</td>\n      <td>2.18</td>\n    </tr>\n    <tr>\n      <th>171</th>\n      <td>76</td>\n      <td>2</td>\n      <td>Canned Soda</td>\n      <td>[Diet Dr. Pepper]</td>\n      <td>2.18</td>\n    </tr>\n    <tr>\n      <th>350</th>\n      <td>150</td>\n      <td>2</td>\n      <td>Canned Soda</td>\n      <td>[Diet Coke]</td>\n      <td>2.18</td>\n    </tr>\n    <tr>\n      <th>352</th>\n      <td>151</td>\n      <td>2</td>\n      <td>Canned Soda</td>\n      <td>[Coca Cola]</td>\n      <td>2.18</td>\n    </tr>\n    <tr>\n      <th>698</th>\n      <td>287</td>\n      <td>2</td>\n      <td>Canned Soda</td>\n      <td>[Coca Cola]</td>\n      <td>2.18</td>\n    </tr>\n    <tr>\n      <th>700</th>\n      <td>288</td>\n      <td>2</td>\n      <td>Canned Soda</td>\n      <td>[Coca Cola]</td>\n      <td>2.18</td>\n    </tr>\n    <tr>\n      <th>909</th>\n      <td>376</td>\n      <td>2</td>\n      <td>Canned Soda</td>\n      <td>[Mountain Dew]</td>\n      <td>2.18</td>\n    </tr>\n    <tr>\n      <th>1091</th>\n      <td>450</td>\n      <td>2</td>\n      <td>Canned Soda</td>\n      <td>[Dr. Pepper]</td>\n      <td>2.18</td>\n    </tr>\n    <tr>\n      <th>1092</th>\n      <td>450</td>\n      <td>2</td>\n      <td>Canned Soda</td>\n      <td>[Coca Cola]</td>\n      <td>2.18</td>\n    </tr>\n    <tr>\n      <th>1944</th>\n      <td>787</td>\n      <td>2</td>\n      <td>Canned Soda</td>\n      <td>[Dr. Pepper]</td>\n      <td>2.18</td>\n    </tr>\n    <tr>\n      <th>2135</th>\n      <td>859</td>\n      <td>2</td>\n      <td>Canned Soda</td>\n      <td>[Diet Coke]</td>\n      <td>2.18</td>\n    </tr>\n    <tr>\n      <th>2235</th>\n      <td>901</td>\n      <td>4</td>\n      <td>Canned Soda</td>\n      <td>[Sprite]</td>\n      <td>4.36</td>\n    </tr>\n    <tr>\n      <th>2905</th>\n      <td>1156</td>\n      <td>2</td>\n      <td>Canned Soda</td>\n      <td>[Coca Cola]</td>\n      <td>2.18</td>\n    </tr>\n    <tr>\n      <th>2906</th>\n      <td>1156</td>\n      <td>2</td>\n      <td>Canned Soda</td>\n      <td>[Sprite]</td>\n      <td>2.18</td>\n    </tr>\n    <tr>\n      <th>3152</th>\n      <td>1258</td>\n      <td>2</td>\n      <td>Canned Soda</td>\n      <td>[Dr. Pepper]</td>\n      <td>2.18</td>\n    </tr>\n    <tr>\n      <th>3364</th>\n      <td>1349</td>\n      <td>2</td>\n      <td>Canned Soda</td>\n      <td>[Coca Cola]</td>\n      <td>2.18</td>\n    </tr>\n    <tr>\n      <th>3592</th>\n      <td>1440</td>\n      <td>2</td>\n      <td>Canned Soda</td>\n      <td>[Diet Coke]</td>\n      <td>2.18</td>\n    </tr>\n    <tr>\n      <th>3866</th>\n      <td>1550</td>\n      <td>2</td>\n      <td>Canned Soda</td>\n      <td>[Mountain Dew]</td>\n      <td>2.18</td>\n    </tr>\n  </tbody>\n</table>\n</div>"
     },
     "execution_count": 36,
     "metadata": {},
     "output_type": "execute_result"
    }
   ],
   "source": [
    "chipo_9 = chipo.query(\"item_name == 'Canned Soda' and quantity > 1\")\n",
    "chipo_9"
   ]
  },
  {
   "cell_type": "code",
   "outputs": [],
   "source": [],
   "metadata": {
    "collapsed": false
   }
  }
 ],
 "metadata": {
  "kernelspec": {
   "name": "python3",
   "language": "python",
   "display_name": "Python 3 (ipykernel)"
  },
  "language_info": {
   "codemirror_mode": {
    "name": "ipython",
    "version": 2
   },
   "file_extension": ".py",
   "mimetype": "text/x-python",
   "name": "python",
   "nbconvert_exporter": "python",
   "pygments_lexer": "ipython2",
   "version": "2.7.11"
  }
 },
 "nbformat": 4,
 "nbformat_minor": 0
}
